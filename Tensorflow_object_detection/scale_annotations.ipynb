{
 "cells": [
  {
   "cell_type": "code",
   "execution_count": 1,
   "metadata": {
    "collapsed": true
   },
   "outputs": [],
   "source": [
    "from xml.dom.minidom import parse\n",
    "import os\n",
    "import glob"
   ]
  },
  {
   "cell_type": "code",
   "execution_count": 2,
   "metadata": {
    "collapsed": true
   },
   "outputs": [],
   "source": [
    "paths = glob.glob('annotations/*.xml')"
   ]
  },
  {
   "cell_type": "code",
   "execution_count": 77,
   "metadata": {
    "collapsed": true
   },
   "outputs": [],
   "source": [
    "check = []\n",
    "for path in paths:\n",
    "    doc = parse(path)\n",
    "    width = doc.getElementsByTagName('width')\n",
    "    width = int(width[0].firstChild.nodeValue)\n",
    "    height = doc.getElementsByTagName('height')\n",
    "    height = int(height[0].firstChild.nodeValue)\n",
    "    \n",
    "    if width == 0 or height == 0:\n",
    "        check.append(path)\n",
    "    else:\n",
    "        w_ratio = 350/width\n",
    "        h_ratio = 350/height\n",
    "\n",
    "        xmin = doc.getElementsByTagName('xmin')\n",
    "        xmax = doc.getElementsByTagName('xmax')\n",
    "        ymin = doc.getElementsByTagName('ymin')\n",
    "        ymax = doc.getElementsByTagName('ymax')\n",
    "\n",
    "        for i in range(0,12):\n",
    "            xmin[i].firstChild.nodeValue = int(int(xmin[i].firstChild.nodeValue)*w_ratio)\n",
    "            xmax[i].firstChild.nodeValue = int(int(xmax[i].firstChild.nodeValue)*w_ratio)\n",
    "            ymin[i].firstChild.nodeValue = int(int(ymin[i].firstChild.nodeValue)*h_ratio)\n",
    "            ymax[i].firstChild.nodeValue = int(int(ymax[i].firstChild.nodeValue)*h_ratio)\n",
    "\n",
    "        doc.getElementsByTagName('width')[0].firstChild.nodeValue = 350\n",
    "        doc.getElementsByTagName('height')[0].firstChild.nodeValue = 350\n",
    "\n",
    "        newname = 'annoscaled/'+path[12:]\n",
    "        xml_file = open(newname, \"w\")\n",
    "        doc.writexml(xml_file, encoding=\"utf-8\")\n",
    "        xml_file.close()"
   ]
  },
  {
   "cell_type": "code",
   "execution_count": 3,
   "metadata": {},
   "outputs": [],
   "source": [
    "check = []\n",
    "for path in paths:\n",
    "    doc = parse(path)\n",
    "    width = doc.getElementsByTagName('width')\n",
    "    width = int(width[0].firstChild.nodeValue)\n",
    "    height = doc.getElementsByTagName('height')\n",
    "    height = int(height[0].firstChild.nodeValue)\n",
    "    if width == 0 or height == 0:\n",
    "        check.append(path)"
   ]
  },
  {
   "cell_type": "code",
   "execution_count": 4,
   "metadata": {},
   "outputs": [
    {
     "data": {
      "text/plain": [
       "[]"
      ]
     },
     "execution_count": 4,
     "metadata": {},
     "output_type": "execute_result"
    }
   ],
   "source": [
    "check"
   ]
  },
  {
   "cell_type": "code",
   "execution_count": 5,
   "metadata": {},
   "outputs": [
    {
     "data": {
      "text/plain": [
       "['annotations\\\\16_17_18_22_24_19_L_H_L_L_L_L_0591_0_9549.xml',\n",
       " 'annotations\\\\16_17_18_22_24_19_L_H_L_L_L_L_0592_0_970.xml',\n",
       " 'annotations\\\\16_17_18_22_24_19_L_H_L_L_L_L_0593_0_3225.xml',\n",
       " 'annotations\\\\16_17_18_22_24_19_L_H_L_L_L_L_0594_0_5053.xml',\n",
       " 'annotations\\\\16_17_18_22_24_19_L_H_L_L_L_L_0595_0_7308.xml',\n",
       " 'annotations\\\\16_18_19_17_24_22_L_L_L_H_H_L_0777_0_6773.xml',\n",
       " 'annotations\\\\16_18_19_17_24_22_L_L_L_H_H_L_0778_0_228.xml',\n",
       " 'annotations\\\\16_18_19_17_24_22_L_L_L_H_H_L_0781_0_3786.xml',\n",
       " 'annotations\\\\16_18_19_17_24_22_L_L_L_H_H_L_0782_0_8422.xml',\n",
       " 'annotations\\\\16_18_19_17_24_22_L_L_L_H_H_L_0783_0_1552.xml',\n",
       " 'annotations\\\\16_18_19_17_24_22_L_L_L_H_H_L_0784_0_992.xml',\n",
       " 'annotations\\\\16_18_19_17_24_22_L_L_L_H_H_L_0785_0_782.xml',\n",
       " 'annotations\\\\16_18_19_17_24_22_L_L_L_H_H_L_0786_0_4049.xml',\n",
       " 'annotations\\\\16_18_19_17_24_22_L_L_L_H_H_L_0789_0_3293.xml',\n",
       " 'annotations\\\\16_18_19_17_24_22_L_L_L_H_H_L_0790_0_5181.xml',\n",
       " 'annotations\\\\16_18_19_17_24_22_L_L_L_H_H_L_0791_0_2889.xml',\n",
       " 'annotations\\\\16_18_19_17_24_22_L_L_L_H_H_L_0792_0_8937.xml',\n",
       " 'annotations\\\\16_18_22_17_24_19_L_H_L_H_H_L_0744_0_3675.xml',\n",
       " 'annotations\\\\16_18_22_17_24_19_L_H_L_H_H_L_0745_0_1210.xml',\n",
       " 'annotations\\\\16_18_22_17_24_19_L_H_L_H_H_L_0746_0_4547.xml',\n",
       " 'annotations\\\\16_18_22_17_24_19_L_H_L_H_H_L_0747_0_9316.xml',\n",
       " 'annotations\\\\16_18_22_17_24_19_L_H_L_H_H_L_0748_0_7827.xml',\n",
       " 'annotations\\\\16_18_22_17_24_19_L_H_L_H_H_L_0749_0_6278.xml',\n",
       " 'annotations\\\\16_18_22_17_24_19_L_H_L_H_H_L_0750_0_8140.xml',\n",
       " 'annotations\\\\16_18_22_17_24_19_L_H_L_H_H_L_0751_0_6209.xml',\n",
       " 'annotations\\\\16_18_22_17_24_19_L_H_L_H_H_L_0752_0_7442.xml',\n",
       " 'annotations\\\\16_18_22_17_24_19_L_H_L_H_H_L_0753_0_8779.xml',\n",
       " 'annotations\\\\16_18_22_17_24_19_L_H_L_H_H_L_0754_0_3213.xml',\n",
       " 'annotations\\\\16_19_22_17_18_24_L_L_L_H_H_H_57.xml',\n",
       " 'annotations\\\\16_19_22_17_18_24_L_L_L_H_H_H_58.xml',\n",
       " 'annotations\\\\16_19_22_17_18_24_L_L_L_H_H_H_59.xml',\n",
       " 'annotations\\\\16_19_22_17_18_24_L_L_L_H_H_H_60.xml',\n",
       " 'annotations\\\\16_19_22_17_18_24_L_L_L_H_H_H_61.xml',\n",
       " 'annotations\\\\16_19_22_17_18_24_L_L_L_H_H_H_66.xml',\n",
       " 'annotations\\\\16_19_22_17_18_24_L_L_L_H_H_H_67.xml',\n",
       " 'annotations\\\\16_19_22_17_18_24_L_L_L_H_H_H_68.xml',\n",
       " 'annotations\\\\16_19_22_17_18_24_L_L_L_H_H_H_69.xml',\n",
       " 'annotations\\\\17_16_18_22_24_19_L_L_L_L_H_L_0596_0_5166.xml',\n",
       " 'annotations\\\\17_16_18_22_24_19_L_L_L_L_H_L_0597_0_3999.xml',\n",
       " 'annotations\\\\17_16_18_22_24_19_L_L_L_L_H_L_0598_0_8168.xml',\n",
       " 'annotations\\\\17_16_18_22_24_19_L_L_L_L_H_L_0599_0_2740.xml',\n",
       " 'annotations\\\\17_16_18_22_24_19_L_L_L_L_H_L_0601_0_9536.xml',\n",
       " 'annotations\\\\17_16_22_18_19_24_H_L_L_H_L_L_0688_0_7903.xml',\n",
       " 'annotations\\\\17_16_22_18_19_24_H_L_L_H_L_L_0689_0_8590.xml',\n",
       " 'annotations\\\\17_16_22_18_19_24_H_L_L_H_L_L_0690_0_2146.xml',\n",
       " 'annotations\\\\17_16_22_18_19_24_H_L_L_H_L_L_0691_0_6913.xml',\n",
       " 'annotations\\\\17_19_22_16_18_24_H_L_L_L_H_H_70.xml',\n",
       " 'annotations\\\\17_19_22_16_18_24_H_L_L_L_H_H_71.xml',\n",
       " 'annotations\\\\17_19_22_16_18_24_H_L_L_L_H_H_72.xml',\n",
       " 'annotations\\\\17_19_22_16_18_24_H_L_L_L_H_H_74.xml',\n",
       " 'annotations\\\\17_19_22_16_18_24_H_L_L_L_H_H_79.xml',\n",
       " 'annotations\\\\17_19_22_16_18_24_H_L_L_L_H_H_80.xml',\n",
       " 'annotations\\\\17_19_22_16_18_24_H_L_L_L_H_H_81.xml',\n",
       " 'annotations\\\\18_19_16_17_22_24_L_H_L_L_H_H_0628.xml',\n",
       " 'annotations\\\\18_19_16_17_22_24_L_H_L_L_H_H_0629.xml',\n",
       " 'annotations\\\\18_19_16_17_22_24_L_H_L_L_H_H_0630.xml',\n",
       " 'annotations\\\\18_19_16_17_22_24_L_H_L_L_H_H_0631.xml',\n",
       " 'annotations\\\\18_19_16_17_22_24_L_H_L_L_H_H_0632.xml',\n",
       " 'annotations\\\\18_19_16_17_22_24_L_H_L_L_H_H_0633.xml',\n",
       " 'annotations\\\\18_19_16_22_17_24_L_H_L_L_L_L_0634.xml',\n",
       " 'annotations\\\\18_19_16_22_17_24_L_H_L_L_L_L_0635.xml',\n",
       " 'annotations\\\\18_19_16_22_17_24_L_H_L_L_L_L_0639.xml',\n",
       " 'annotations\\\\18_19_16_22_17_24_L_H_L_L_L_L_0640.xml',\n",
       " 'annotations\\\\18_19_16_22_17_24_L_H_L_L_L_L_0642.xml',\n",
       " 'annotations\\\\18_19_16_22_17_24_L_H_L_L_L_L_0643.xml',\n",
       " 'annotations\\\\18_19_16_22_24_17_L_L_L_H_L_L_0840.xml',\n",
       " 'annotations\\\\19_16_18_22_24_17_L_H_H_L_L_H_0579.xml',\n",
       " 'annotations\\\\19_16_18_22_24_17_L_H_H_L_L_H_0580.xml',\n",
       " 'annotations\\\\19_16_18_22_24_17_L_H_H_L_L_H_0581.xml',\n",
       " 'annotations\\\\19_16_18_22_24_17_L_H_H_L_L_H_0582.xml',\n",
       " 'annotations\\\\19_16_18_22_24_17_L_H_H_L_L_H_0583.xml',\n",
       " 'annotations\\\\19_18_22_24_16_17_H_L_H_L_L_L_0837.xml',\n",
       " 'annotations\\\\19_18_22_24_16_17_H_L_H_L_L_L_0838.xml',\n",
       " 'annotations\\\\19_22_17_16_24_18_L_L_L_H_L_L_0584.xml',\n",
       " 'annotations\\\\19_22_17_16_24_18_L_L_L_H_L_L_0585.xml',\n",
       " 'annotations\\\\22_19_24_17_16_18_H_H_L_L_H_L_0730.xml',\n",
       " 'annotations\\\\22_19_24_17_16_18_H_H_L_L_H_L_0731.xml',\n",
       " 'annotations\\\\22_19_24_17_16_18_H_H_L_L_H_L_0732.xml',\n",
       " 'annotations\\\\22_19_24_17_16_18_H_H_L_L_H_L_0733.xml',\n",
       " 'annotations\\\\22_19_24_17_16_18_H_H_L_L_H_L_0734.xml',\n",
       " 'annotations\\\\22_19_24_17_16_18_H_H_L_L_H_L_0735.xml',\n",
       " 'annotations\\\\22_19_24_17_16_18_H_H_L_L_H_L_0736.xml',\n",
       " 'annotations\\\\22_19_24_17_16_18_H_H_L_L_H_L_0737.xml',\n",
       " 'annotations\\\\22_19_24_17_16_18_H_H_L_L_H_L_0742.xml',\n",
       " 'annotations\\\\22_19_24_17_16_18_H_H_L_L_H_L_0743.xml']"
      ]
     },
     "execution_count": 5,
     "metadata": {},
     "output_type": "execute_result"
    }
   ],
   "source": [
    "paths"
   ]
  },
  {
   "cell_type": "code",
   "execution_count": null,
   "metadata": {
    "collapsed": true
   },
   "outputs": [],
   "source": []
  }
 ],
 "metadata": {
  "kernelspec": {
   "display_name": "Python 3",
   "language": "python",
   "name": "python3"
  },
  "language_info": {
   "codemirror_mode": {
    "name": "ipython",
    "version": 3
   },
   "file_extension": ".py",
   "mimetype": "text/x-python",
   "name": "python",
   "nbconvert_exporter": "python",
   "pygments_lexer": "ipython3",
   "version": "3.6.3"
  }
 },
 "nbformat": 4,
 "nbformat_minor": 2
}
