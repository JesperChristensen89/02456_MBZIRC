{
 "cells": [
  {
   "cell_type": "code",
   "execution_count": 15,
   "metadata": {},
   "outputs": [],
   "source": [
    "%matplotlib inline\n",
    "import numpy as np\n",
    "import tensorflow as tf\n",
    "import glob\n",
    "from keras.preprocessing.image import ImageDataGenerator, array_to_img, img_to_array, load_img\n",
    "from IPython.display import clear_output"
   ]
  },
  {
   "cell_type": "code",
   "execution_count": 33,
   "metadata": {},
   "outputs": [
    {
     "name": "stdout",
     "output_type": "stream",
     "text": [
      "Amount of images = 197\n"
     ]
    }
   ],
   "source": [
    "image_paths = glob.glob(\"../data/raw_data/13102017/*\")\n",
    "print(\"Amount of images =\", len(image_paths))"
   ]
  },
  {
   "cell_type": "code",
   "execution_count": 30,
   "metadata": {
    "collapsed": true
   },
   "outputs": [],
   "source": [
    "datagen = ImageDataGenerator()"
   ]
  },
  {
   "cell_type": "code",
   "execution_count": 34,
   "metadata": {},
   "outputs": [
    {
     "name": "stdout",
     "output_type": "stream",
     "text": [
      "/13102017\\22_24_18_16_17_19_L_H_L_H_H_H_26\n",
      "1\n"
     ]
    }
   ],
   "source": [
    "for image in image_paths:\n",
    "    \n",
    "    img = load_img(image,target_size=(512,512))  # load image\n",
    "    x = img_to_array(img)  # convert to numpy shape (3, 150, 150)\n",
    "    x = x.reshape((1,) + x.shape)  # rearrange to shape (1, 3, 150, 150)\n",
    "\n",
    "    print(image[16:-4]) # debug\n",
    "    i = 0\n",
    "    for batch in datagen.flow(x, batch_size=1, shuffle=False,save_to_dir='../data/resized_raw/13102017', save_prefix=image[26:-4], save_format='png'):\n",
    "        i += 1\n",
    "        print(i)\n",
    "        if i >= 1:\n",
    "            clear_output(wait=True)\n",
    "            break  # otherwise the generator would loop indefinitely"
   ]
  },
  {
   "cell_type": "code",
   "execution_count": 13,
   "metadata": {
    "collapsed": true
   },
   "outputs": [],
   "source": [
    "for image in image_paths:\n",
    "    \n",
    "    break"
   ]
  },
  {
   "cell_type": "code",
   "execution_count": 24,
   "metadata": {},
   "outputs": [
    {
     "data": {
      "text/plain": [
       "'6_19_22_17_18_24_L_L_L_H_H_H_57.png'"
      ]
     },
     "execution_count": 24,
     "metadata": {},
     "output_type": "execute_result"
    }
   ],
   "source": [
    "image[27:]"
   ]
  },
  {
   "cell_type": "code",
   "execution_count": null,
   "metadata": {
    "collapsed": true
   },
   "outputs": [],
   "source": []
  }
 ],
 "metadata": {
  "kernelspec": {
   "display_name": "Python 3",
   "language": "python",
   "name": "python3"
  },
  "language_info": {
   "codemirror_mode": {
    "name": "ipython",
    "version": 3
   },
   "file_extension": ".py",
   "mimetype": "text/x-python",
   "name": "python",
   "nbconvert_exporter": "python",
   "pygments_lexer": "ipython3",
   "version": "3.6.3"
  }
 },
 "nbformat": 4,
 "nbformat_minor": 1
}
