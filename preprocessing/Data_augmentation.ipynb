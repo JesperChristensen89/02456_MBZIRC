{
 "cells": [
  {
   "cell_type": "code",
   "execution_count": 1,
   "metadata": {},
   "outputs": [
    {
     "name": "stderr",
     "output_type": "stream",
     "text": [
      "Using TensorFlow backend.\n"
     ]
    }
   ],
   "source": [
    "%matplotlib inline\n",
    "import numpy as np\n",
    "import tensorflow as tf\n",
    "import glob\n",
    "from keras.preprocessing.image import ImageDataGenerator, array_to_img, img_to_array, load_img\n",
    "from IPython.display import clear_output"
   ]
  },
  {
   "cell_type": "code",
   "execution_count": 2,
   "metadata": {},
   "outputs": [
    {
     "name": "stdout",
     "output_type": "stream",
     "text": [
      "Amount of images = 637\n"
     ]
    }
   ],
   "source": [
    "image_paths = glob.glob(\"../data/resized_raw/*.png\")\n",
    "print(\"Amount of images =\", len(image_paths))"
   ]
  },
  {
   "cell_type": "code",
   "execution_count": 3,
   "metadata": {
    "collapsed": true
   },
   "outputs": [],
   "source": [
    "datagen = ImageDataGenerator(\n",
    "        rotation_range=10,\n",
    "        width_shift_range=0.1,\n",
    "        height_shift_range=0.1,\n",
    "        shear_range=0.1,\n",
    "        zoom_range=0.1,\n",
    "        fill_mode='nearest')"
   ]
  },
  {
   "cell_type": "code",
   "execution_count": null,
   "metadata": {
    "scrolled": true
   },
   "outputs": [
    {
     "name": "stdout",
     "output_type": "stream",
     "text": [
      "22_18_17_19_16_24_L_L_L_L_L_L_1_0_5281\n"
     ]
    }
   ],
   "source": [
    "nb_augmentations = 4\n",
    "for image in image_paths:\n",
    "    \n",
    "    img = load_img(image,target_size=(256,256))  # load image\n",
    "    x = img_to_array(img)  # convert to numpy shape (3, 150, 150)\n",
    "    x = x.reshape((1,) + x.shape)  # rearrange to shape (1, 3, 150, 150)\n",
    "\n",
    "    print(image[20:-4]) # debug\n",
    "    i = 0\n",
    "    for batch in datagen.flow(x, batch_size=1, shuffle=False,save_to_dir='../data/augmented_data', save_prefix=image[20:-4], save_format='png'):\n",
    "        i += 1\n",
    "        print(i)\n",
    "        if i >= nb_augmentations:\n",
    "            clear_output(wait=True)\n",
    "            break  # otherwise the generator would loop indefinitely\n",
    "    "
   ]
  },
  {
   "cell_type": "code",
   "execution_count": 6,
   "metadata": {},
   "outputs": [
    {
     "data": {
      "text/plain": [
       "'16_17_18_19_22_24_H_H_L_L_L_H_0_0_6479.png'"
      ]
     },
     "execution_count": 6,
     "metadata": {},
     "output_type": "execute_result"
    }
   ],
   "source": [
    "for image in image_paths:\n",
    "    break\n",
    "image[20:]"
   ]
  },
  {
   "cell_type": "markdown",
   "metadata": {},
   "source": [
    "## Copy original files as well"
   ]
  },
  {
   "cell_type": "code",
   "execution_count": 24,
   "metadata": {},
   "outputs": [
    {
     "name": "stdout",
     "output_type": "stream",
     "text": [
      "24_17_19_22_18_16_H_L_L_H_H_L_0617_0_5499\n",
      "1\n"
     ]
    }
   ],
   "source": [
    "datagen = ImageDataGenerator()\n",
    "for image in image_paths:\n",
    "    \n",
    "    img = load_img(image,target_size=(256,256))  # load image\n",
    "    x = img_to_array(img)  # convert to numpy shape (3, 150, 150)\n",
    "    x = x.reshape((1,) + x.shape)  # rearrange to shape (1, 3, 150, 150)\n",
    "\n",
    "    print(image[20:-4]) # debug\n",
    "    i = 0\n",
    "    for batch in datagen.flow(x, batch_size=1, shuffle=False,save_to_dir='../data/augmented_orig_data', save_prefix=image[20:-4], save_format='png'):\n",
    "        i += 1\n",
    "        print(i)\n",
    "        if i >= 1:\n",
    "            clear_output(wait=True)\n",
    "            break  # otherwise the generator would loop indefinitely"
   ]
  },
  {
   "cell_type": "code",
   "execution_count": 25,
   "metadata": {},
   "outputs": [
    {
     "name": "stdout",
     "output_type": "stream",
     "text": [
      "done\n"
     ]
    }
   ],
   "source": [
    "print('done')"
   ]
  },
  {
   "cell_type": "code",
   "execution_count": null,
   "metadata": {
    "collapsed": true
   },
   "outputs": [],
   "source": []
  }
 ],
 "metadata": {
  "kernelspec": {
   "display_name": "Python 3",
   "language": "python",
   "name": "python3"
  },
  "language_info": {
   "codemirror_mode": {
    "name": "ipython",
    "version": 3
   },
   "file_extension": ".py",
   "mimetype": "text/x-python",
   "name": "python",
   "nbconvert_exporter": "python",
   "pygments_lexer": "ipython3",
   "version": "3.6.3"
  }
 },
 "nbformat": 4,
 "nbformat_minor": 1
}
