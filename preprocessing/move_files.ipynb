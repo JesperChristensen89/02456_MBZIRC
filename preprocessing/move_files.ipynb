{
 "cells": [
  {
   "cell_type": "code",
   "execution_count": 1,
   "metadata": {
    "collapsed": true
   },
   "outputs": [],
   "source": [
    "%matplotlib inline\n",
    "import matplotlib\n",
    "import numpy as np\n",
    "import pandas as pd\n",
    "import matplotlib.pyplot as plt\n",
    "import tensorflow as tf\n",
    "import glob\n",
    "import datetime\n",
    "from skimage.io import imread\n",
    "from skimage.transform import resize\n",
    "from tensorflow.python.framework.ops import reset_default_graph\n",
    "import os\n",
    "import shutil\n",
    "import subprocess\n",
    "\n",
    "import os\n",
    "import sys\n",
    "sys.path.append(os.path.join('.', '..')) # Allow us to import shared custom \n",
    "                                         # libraries, like utils.py\n",
    "from IPython.display import clear_output\n",
    "import platform"
   ]
  },
  {
   "cell_type": "code",
   "execution_count": 15,
   "metadata": {},
   "outputs": [
    {
     "name": "stdout",
     "output_type": "stream",
     "text": [
      "Amount of train images = 150\n",
      "Amount of validation images = 84\n"
     ]
    }
   ],
   "source": [
    "#image_paths_train = glob.glob(\"../data/augmented_data/*.png\")\n",
    "#print(\"Amount of train images =\", len(image_paths_train))\n",
    "\n",
    "paths_train = glob.glob(\"../data/raw_data/30102017_cropped/*\")\n",
    "paths_validation = glob.glob(\"../data/test_cropped/*/*.png\")\n",
    "\n",
    "amount_train =  int(len(paths_train))\n",
    "amount_validation = len(paths_validation)\n",
    "\n",
    "#np.random.shuffle(image_paths)\n",
    "\n",
    "#paths_train = image_paths[0:amount_train]\n",
    "#paths_train = np.asarray(paths_train)\n",
    "\n",
    "#paths_validation = image_paths[amount_train-1:-1]\n",
    "#paths_validation = np.asarray(paths_validation)\n",
    "\n",
    "print(\"Amount of train images =\", len(paths_train))\n",
    "print(\"Amount of validation images =\", len(paths_validation))\n",
    "\n",
    "#image_paths_test = glob.glob(\"../data/test_resized_raw/10112017/*.png\")\n",
    "#print(\"Amount of test images =\", len(image_paths_test))\n",
    "\n",
    "KeyOfInterrest = '19'"
   ]
  },
  {
   "cell_type": "code",
   "execution_count": 13,
   "metadata": {},
   "outputs": [
    {
     "name": "stdout",
     "output_type": "stream",
     "text": [
      "done\n"
     ]
    }
   ],
   "source": [
    "for i, path in enumerate(paths_train):\n",
    "    _name = (path.split('/')[-1].split('.')[0])\n",
    "    _name = _name[:]\n",
    "    if _name[0:2] == KeyOfInterrest:\n",
    "        shutil.copy(path,'../data/model/key'+KeyOfInterrest+'_cropped/train/pos1/'+_name+'.png')\n",
    "    elif _name[3:5] == KeyOfInterrest:\n",
    "        shutil.copy(path,'../data/model/key'+KeyOfInterrest+'_cropped/train/pos2/'+_name+'.png')\n",
    "    elif _name[6:8] == KeyOfInterrest:\n",
    "        shutil.copy(path,'../data/model/key'+KeyOfInterrest+'_cropped/train/pos3/'+_name+'.png')\n",
    "    elif _name[9:11] == KeyOfInterrest:\n",
    "        shutil.copy(path,'../data/model/key'+KeyOfInterrest+'_cropped/train/pos4/'+_name+'.png')\n",
    "    elif _name[12:14] == KeyOfInterrest:\n",
    "        shutil.copy(path,'../data/model/key'+KeyOfInterrest+'_cropped/train/pos5/'+_name+'.png')\n",
    "    elif _name[15:17] == KeyOfInterrest:\n",
    "        shutil.copy(path,'../data/model/key'+KeyOfInterrest+'_cropped/train/pos6/'+_name+'.png')\n",
    "    else:\n",
    "        print('Error in ', _name)\n",
    "        \n",
    "print('done')"
   ]
  },
  {
   "cell_type": "code",
   "execution_count": 18,
   "metadata": {},
   "outputs": [
    {
     "name": "stdout",
     "output_type": "stream",
     "text": [
      "done\n"
     ]
    }
   ],
   "source": [
    "for i, path in enumerate(paths_validation):\n",
    "    _name = (path.split('/')[-1].split('.')[0])\n",
    "    _name = _name[:]\n",
    "    if _name[0:2] == KeyOfInterrest:\n",
    "        shutil.copy(path,'../data/model/key'+KeyOfInterrest+'_cropped/val/pos1/'+_name+'.png')\n",
    "    elif _name[3:5] == KeyOfInterrest:\n",
    "        shutil.copy(path,'../data/model/key'+KeyOfInterrest+'_cropped/val/pos2/'+_name+'.png')\n",
    "    elif _name[6:8] == KeyOfInterrest:\n",
    "        shutil.copy(path,'../data/model/key'+KeyOfInterrest+'_cropped/val/pos3/'+_name+'.png')\n",
    "    elif _name[9:11] == KeyOfInterrest:\n",
    "        shutil.copy(path,'../data/model/key'+KeyOfInterrest+'_cropped/val/pos4/'+_name+'.png')\n",
    "    elif _name[12:14] == KeyOfInterrest:\n",
    "        shutil.copy(path,'../data/model/key'+KeyOfInterrest+'_cropped/val/pos5/'+_name+'.png')\n",
    "    elif _name[15:17] == KeyOfInterrest:\n",
    "        shutil.copy(path,'../data/model/key'+KeyOfInterrest+'_cropped/val/pos6/'+_name+'.png')\n",
    "    else:\n",
    "        print('Error in ', _name)\n",
    "print('done')"
   ]
  },
  {
   "cell_type": "code",
   "execution_count": 3,
   "metadata": {},
   "outputs": [
    {
     "name": "stdout",
     "output_type": "stream",
     "text": [
      "done\n"
     ]
    }
   ],
   "source": [
    "for i, path in enumerate(image_paths_test):\n",
    "    _name = (path.split('/')[-1].split('.')[0])\n",
    "    _name = _name[26:]\n",
    "    if _name[0:2] == KeyOfInterrest:\n",
    "        shutil.copy(path,'../data/model/key'+KeyOfInterrest+'/test/pos1/'+_name+'.png')\n",
    "    elif _name[3:5] == KeyOfInterrest:\n",
    "        shutil.copy(path,'../data/model/key'+KeyOfInterrest+'/test/pos2/'+_name+'.png')\n",
    "    elif _name[6:8] == KeyOfInterrest:\n",
    "        shutil.copy(path,'../data/model/key'+KeyOfInterrest+'/test/pos3/'+_name+'.png')\n",
    "    elif _name[9:11] == KeyOfInterrest:\n",
    "        shutil.copy(path,'../data/model/key'+KeyOfInterrest+'/test/pos4/'+_name+'.png')\n",
    "    elif _name[12:14] == KeyOfInterrest:\n",
    "        shutil.copy(path,'../data/model/key'+KeyOfInterrest+'/test/pos5/'+_name+'.png')\n",
    "    elif _name[15:17] == KeyOfInterrest:\n",
    "        shutil.copy(path,'../data/model/key'+KeyOfInterrest+'/test/pos6/'+_name+'.png')\n",
    "print('done')"
   ]
  },
  {
   "cell_type": "markdown",
   "metadata": {},
   "source": [
    "# For raw images used in on-the-fly augmentation:"
   ]
  },
  {
   "cell_type": "code",
   "execution_count": 18,
   "metadata": {},
   "outputs": [
    {
     "name": "stdout",
     "output_type": "stream",
     "text": [
      "Images for train 445\n",
      "Images for validation 192\n",
      "Amount of test images = 127\n"
     ]
    }
   ],
   "source": [
    "image_paths = glob.glob(\"../data/resized_raw/*.png\")\n",
    "amount_train =  int(len(image_paths)*0.70)\n",
    "amount_validation = len(image_paths)-amount_train\n",
    "np.random.shuffle(image_paths)\n",
    "paths_train = image_paths[0:amount_train]\n",
    "paths_train = np.asarray(paths_train)\n",
    "paths_validation = image_paths[amount_train-1:-1]\n",
    "paths_validation = np.asarray(paths_validation)\n",
    "print('Images for train {}'.format(amount_train))\n",
    "print('Images for validation {}'.format(amount_validation))\n",
    "\n",
    "image_paths_test = glob.glob(\"../data/test_resized_raw/*/*.png\")\n",
    "print(\"Amount of test images =\", len(image_paths_test))\n",
    "\n",
    "KeyOfInterrest = '19'"
   ]
  },
  {
   "cell_type": "code",
   "execution_count": 15,
   "metadata": {},
   "outputs": [
    {
     "name": "stdout",
     "output_type": "stream",
     "text": [
      "done\n"
     ]
    }
   ],
   "source": [
    "for i, path in enumerate(paths_train):\n",
    "    _name = (path.split('/')[-1].split('.')[0])\n",
    "    _name = _name[12:]\n",
    "    if _name[0:2] == KeyOfInterrest:\n",
    "        shutil.copy(path,'../data/model/key'+KeyOfInterrest+'_raw/train/pos1/'+_name+'.png')\n",
    "    elif _name[3:5] == KeyOfInterrest:\n",
    "        shutil.copy(path,'../data/model/key'+KeyOfInterrest+'_raw/train/pos2/'+_name+'.png')\n",
    "    elif _name[6:8] == KeyOfInterrest:\n",
    "        shutil.copy(path,'../data/model/key'+KeyOfInterrest+'_raw/train/pos3/'+_name+'.png')\n",
    "    elif _name[9:11] == KeyOfInterrest:\n",
    "        shutil.copy(path,'../data/model/key'+KeyOfInterrest+'_raw/train/pos4/'+_name+'.png')\n",
    "    elif _name[12:14] == KeyOfInterrest:\n",
    "        shutil.copy(path,'../data/model/key'+KeyOfInterrest+'_raw/train/pos5/'+_name+'.png')\n",
    "    elif _name[15:17] == KeyOfInterrest:\n",
    "        shutil.copy(path,'../data/model/key'+KeyOfInterrest+'_raw/train/pos6/'+_name+'.png')\n",
    "    else:\n",
    "        print('Error in ', _name)\n",
    "        \n",
    "print('done')"
   ]
  },
  {
   "cell_type": "code",
   "execution_count": 16,
   "metadata": {},
   "outputs": [
    {
     "name": "stdout",
     "output_type": "stream",
     "text": [
      "done\n"
     ]
    }
   ],
   "source": [
    "for i, path in enumerate(paths_validation):\n",
    "    _name = (path.split('/')[-1].split('.')[0])\n",
    "    _name = _name[12:]\n",
    "    if _name[0:2] == KeyOfInterrest:\n",
    "        shutil.copy(path,'../data/model/key'+KeyOfInterrest+'_raw/validation/pos1/'+_name+'.png')\n",
    "    elif _name[3:5] == KeyOfInterrest:\n",
    "        shutil.copy(path,'../data/model/key'+KeyOfInterrest+'_raw/validation/pos2/'+_name+'.png')\n",
    "    elif _name[6:8] == KeyOfInterrest:\n",
    "        shutil.copy(path,'../data/model/key'+KeyOfInterrest+'_raw/validation/pos3/'+_name+'.png')\n",
    "    elif _name[9:11] == KeyOfInterrest:\n",
    "        shutil.copy(path,'../data/model/key'+KeyOfInterrest+'_raw/validation/pos4/'+_name+'.png')\n",
    "    elif _name[12:14] == KeyOfInterrest:\n",
    "        shutil.copy(path,'../data/model/key'+KeyOfInterrest+'_raw/validation/pos5/'+_name+'.png')\n",
    "    elif _name[15:17] == KeyOfInterrest:\n",
    "        shutil.copy(path,'../data/model/key'+KeyOfInterrest+'_raw/validation/pos6/'+_name+'.png')\n",
    "print('done')"
   ]
  },
  {
   "cell_type": "code",
   "execution_count": 19,
   "metadata": {},
   "outputs": [
    {
     "name": "stdout",
     "output_type": "stream",
     "text": [
      "done\n"
     ]
    }
   ],
   "source": [
    "for i, path in enumerate(image_paths_test):\n",
    "    _name = (path.split('/')[-1].split('.')[0])\n",
    "    _name = _name[26:]\n",
    "    if _name[0:2] == KeyOfInterrest:\n",
    "        shutil.copy(path,'../data/model/key'+KeyOfInterrest+'_raw/test/pos1/'+_name+'.png')\n",
    "    elif _name[3:5] == KeyOfInterrest:\n",
    "        shutil.copy(path,'../data/model/key'+KeyOfInterrest+'_raw/test/pos2/'+_name+'.png')\n",
    "    elif _name[6:8] == KeyOfInterrest:\n",
    "        shutil.copy(path,'../data/model/key'+KeyOfInterrest+'_raw/test/pos3/'+_name+'.png')\n",
    "    elif _name[9:11] == KeyOfInterrest:\n",
    "        shutil.copy(path,'../data/model/key'+KeyOfInterrest+'_raw/test/pos4/'+_name+'.png')\n",
    "    elif _name[12:14] == KeyOfInterrest:\n",
    "        shutil.copy(path,'../data/model/key'+KeyOfInterrest+'_raw/test/pos5/'+_name+'.png')\n",
    "    elif _name[15:17] == KeyOfInterrest:\n",
    "        shutil.copy(path,'../data/model/key'+KeyOfInterrest+'_raw/test/pos6/'+_name+'.png')\n",
    "print('done')"
   ]
  },
  {
   "cell_type": "code",
   "execution_count": null,
   "metadata": {
    "collapsed": true
   },
   "outputs": [],
   "source": []
  }
 ],
 "metadata": {
  "kernelspec": {
   "display_name": "Python 3",
   "language": "python",
   "name": "python3"
  },
  "language_info": {
   "codemirror_mode": {
    "name": "ipython",
    "version": 3
   },
   "file_extension": ".py",
   "mimetype": "text/x-python",
   "name": "python",
   "nbconvert_exporter": "python",
   "pygments_lexer": "ipython3",
   "version": "3.5.4"
  }
 },
 "nbformat": 4,
 "nbformat_minor": 1
}
